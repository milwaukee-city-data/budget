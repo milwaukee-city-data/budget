{
 "cells": [
  {
   "cell_type": "code",
   "execution_count": null,
   "id": "6c4fbe14",
   "metadata": {},
   "outputs": [],
   "source": [
    "import csv\n",
    "import time\n",
    "\n",
    "from tqdm import tqdm\n",
    "\n",
    "from selenium import webdriver\n",
    "from selenium.common.exceptions import (\n",
    "    NoSuchElementException,\n",
    "    StaleElementReferenceException,\n",
    ")"
   ]
  },
  {
   "cell_type": "code",
   "execution_count": null,
   "id": "525d0469",
   "metadata": {},
   "outputs": [],
   "source": [
    "CHROME_OPTIONS = webdriver.ChromeOptions()\n",
    "CHROME_OPTIONS.add_argument(\"--headless\")\n",
    "\n",
    "FILE = \"/Users/alex.urban/Downloads/city-of-milwaukee-salaries-2020.tsv\"\n",
    "\n",
    "SOURCE = \"https://assessments.milwaukee.gov/SearchResults.asp?SearchOwner\""
   ]
  },
  {
   "cell_type": "code",
   "execution_count": null,
   "id": "0c2ec1ac",
   "metadata": {},
   "outputs": [],
   "source": [
    "class wait_til_load(object):\n",
    "\n",
    "    def __init__(self, f):\n",
    "        self.f = f\n",
    "\n",
    "    def __call__(self, *args):\n",
    "        try:\n",
    "            return self.f(*args)\n",
    "        except (\n",
    "            NoSuchElementException,\n",
    "            StaleElementReferenceException,\n",
    "        ):\n",
    "            # retry with enough time to load the data\n",
    "            return self.__call__(*args)\n",
    "\n",
    "\n",
    "@wait_til_load\n",
    "def _get_properties(browser):\n",
    "    def parse_column(tbody, col):\n",
    "        if col in [3, 5, 6, 7, 8]:\n",
    "            # handle columns bafflingly packed with two entries\n",
    "            packed = [row[col].text.split(\"\\n\")\n",
    "                      for row in tbody]\n",
    "            return [\"\\n\".join(item) for item in\n",
    "                    map(list, zip(*packed))]\n",
    "        return \"\\n\".join([row[col].text for row in tbody])\n",
    "\n",
    "    if (\n",
    "        \"No matching records found\" in\n",
    "        browser.find_element_by_tag_name(\"body\").text\n",
    "    ):\n",
    "        return list()\n",
    "    # first, locate the table\n",
    "    table = browser.find_element_by_xpath(\"//table[@id='T1']\")\n",
    "    # next, locate rows in the body of the table\n",
    "    tbody = [item.find_elements_by_tag_name(\"td\")\n",
    "             for item in table.find_elements_by_tag_name(\"tr\")[1::]]\n",
    "    return [  # finally, parse these entries into CSV-friendly text\n",
    "        parse_column(tbody, 0),  # taxkey\n",
    "        parse_column(tbody, 1),  # address\n",
    "        parse_column(tbody, 4),  # assessed value\n",
    "    ] + (\n",
    "        parse_column(tbody, 3) +  # build year, type\n",
    "        parse_column(tbody, 5) +  # beds, baths\n",
    "        parse_column(tbody, 6) +  # lot size, area (sq. ft.)\n",
    "        parse_column(tbody, 7) +  # LUC, description\n",
    "        parse_column(tbody, 8)    # sale date, sale price\n",
    "    )"
   ]
  },
  {
   "cell_type": "code",
   "execution_count": null,
   "id": "00391331",
   "metadata": {},
   "outputs": [],
   "source": [
    "# read in data from CSV\n",
    "with open(FILE, \"r\") as fileobj:\n",
    "    data = list(csv.reader(fileobj, delimiter=\"\\t\"))\n",
    "header = data[0]\n",
    "rows = data[1::]"
   ]
  },
  {
   "cell_type": "code",
   "execution_count": null,
   "id": "a9f81049",
   "metadata": {},
   "outputs": [],
   "source": [
    "# connect via Chrome\n",
    "browser = webdriver.Chrome(options=CHROME_OPTIONS)"
   ]
  },
  {
   "cell_type": "code",
   "execution_count": null,
   "id": "57b36ad3",
   "metadata": {},
   "outputs": [],
   "source": [
    "# get start time\n",
    "start = time.time()\n",
    "\n",
    "# read off table column headers\n",
    "header += [\n",
    "    \"Property taxkey\",\n",
    "    \"In-city property owned\",\n",
    "    \"Assessed property value\",\n",
    "    \"Build year\",\n",
    "    \"Building type\",\n",
    "    \"No. of beds\",\n",
    "    \"No. of baths\",\n",
    "    \"Lot size (sq. ft.)\",\n",
    "    \"Floor area (sq. ft.)\",\n",
    "    \"LUC\",\n",
    "    \"Description\",\n",
    "    \"Sale date\",\n",
    "    \"Sale price\",\n",
    "]\n",
    "\n",
    "# retrieve data from the table\n",
    "for i in tqdm(range(len(rows)), desc=\"Progress: \"):\n",
    "    if rows[i][0].strip():\n",
    "        name = \"+\".join(rows[i][0].split(\",\")[::-1]).replace(\" \", \"+\")\n",
    "        browser.get(f\"{SOURCE}={name}\")\n",
    "        try:\n",
    "            rows[i] += _get_properties(browser)\n",
    "        except RecursionError:\n",
    "            continue\n",
    "\n",
    "# report the time taken\n",
    "minutes = (time.time() - start) / 60\n",
    "print(f\"Total time taken: {minutes} minutes\")"
   ]
  },
  {
   "cell_type": "code",
   "execution_count": null,
   "id": "f4737464",
   "metadata": {},
   "outputs": [],
   "source": [
    "# close the browser\n",
    "browser.close()"
   ]
  },
  {
   "cell_type": "code",
   "execution_count": null,
   "id": "8ec7f716",
   "metadata": {},
   "outputs": [],
   "source": [
    "# overwrite the original file\n",
    "with open(FILE, \"w\") as fileobj:\n",
    "    writer = csv.writer(fileobj, delimiter=\"\\t\")\n",
    "    writer.writerow(header)  # column headers\n",
    "    writer.writerows(rows)  # column data"
   ]
  }
 ],
 "metadata": {
  "kernelspec": {
   "display_name": "Python 3",
   "language": "python",
   "name": "python3"
  },
  "language_info": {
   "codemirror_mode": {
    "name": "ipython",
    "version": 3
   },
   "file_extension": ".py",
   "mimetype": "text/x-python",
   "name": "python",
   "nbconvert_exporter": "python",
   "pygments_lexer": "ipython3",
   "version": "3.9.1"
  }
 },
 "nbformat": 4,
 "nbformat_minor": 5
}
