{
 "cells": [
  {
   "cell_type": "code",
   "execution_count": null,
   "id": "627c0445",
   "metadata": {},
   "outputs": [],
   "source": [
    "import csv\n",
    "import numpy"
   ]
  },
  {
   "cell_type": "code",
   "execution_count": null,
   "id": "ce09ebce",
   "metadata": {},
   "outputs": [],
   "source": [
    "def _make_unique(ls):\n",
    "    \"\"\"Ensure the strings within a list are unique by\n",
    "    appending an integer\n",
    "    \"\"\"\n",
    "    return [f\"{s}:{ls[:i].count(s)}\" for (i, s) in enumerate(ls)]\n",
    "\n",
    "\n",
    "def _sanitize(dollar):\n",
    "    dollar = dollar.replace(\"$\", \"\").replace(\",\", \"\")\n",
    "    return float(dollar)\n",
    "\n",
    "\n",
    "def _transpose(ls):\n",
    "    \"\"\"Efficiently transpose a list of lists\n",
    "    \"\"\"\n",
    "    return list(map(list, zip(*ls)))\n",
    "\n",
    "\n",
    "def outer_join(ds1, ds2):\n",
    "    \"\"\"Perform an outer join on two datasets along their\n",
    "    first column\n",
    "    \"\"\"\n",
    "    key = list(ds2.keys())[0]  # match along the first key\n",
    "    assert key == list(ds1.keys())[0]  # consistency check\n",
    "    # ensure name entries are unique\n",
    "    ds1[key] = _make_unique(ds1[key])\n",
    "    ds2[key] = _make_unique(ds2[key])\n",
    "    # parse rows from each dataset\n",
    "    rows1 = _transpose([ds1[col] for col in list(ds1.keys())[:5]])\n",
    "    rows2 = _transpose([ds2[col] for col in ds2.keys()])\n",
    "    # populate entries in the first set, but not the second\n",
    "    joined = [row[:5] + [\"\"] * 3 + row[5::] for row in rows1\n",
    "              if row[0] not in ds2[key]]\n",
    "    # join datasets along rows\n",
    "    for (i, row) in enumerate(rows2):\n",
    "        name = row[0]\n",
    "        if (  # entry is in both sets\n",
    "            (name in ds1[key]) and\n",
    "            (name in ds2[key])\n",
    "        ):\n",
    "            j = ds1[key].index(name)\n",
    "            joined.append(row[:3] + rows1[j][3:5] + row[3::])\n",
    "        elif name in ds2[key]:  # entry is only in set 2\n",
    "            joined.append(row[:3] + [\"\"] * 2 + row[3::])\n",
    "    # prepare new column headers\n",
    "    headers = [\n",
    "        list(ds2.keys())[:3] +\n",
    "        [f\"2019 {s}\" for s in list(ds1.keys())[3:5]] +\n",
    "        [f\"2020 {s}\" for s in list(ds2.keys())[3:6]] +\n",
    "        list(ds2.keys())[6::]\n",
    "    ]\n",
    "    # return the joined dataset\n",
    "    return headers + joined"
   ]
  },
  {
   "cell_type": "code",
   "execution_count": null,
   "id": "b2db5079",
   "metadata": {},
   "outputs": [],
   "source": [
    "data = {}\n",
    "\n",
    "for file in (\n",
    "    \"city-of-milwaukee-salaries-2019.tsv\",\n",
    "    \"city-of-milwaukee-salaries-2020.tsv\",\n",
    "):\n",
    "    # read in data from CSV\n",
    "    with open(file, \"r\") as fileobj:\n",
    "        year = file.split(\"-\")[-1].split(\".\")[0]\n",
    "        contents = csv.reader(fileobj, delimiter=\"\\t\")\n",
    "        data[year] = {x[0]: x[1::] for x in list(map(list, zip(*contents)))}"
   ]
  },
  {
   "cell_type": "code",
   "execution_count": null,
   "id": "6a2699d3",
   "metadata": {},
   "outputs": [],
   "source": [
    "# consistency check\n",
    "print(len(data[\"2019\"][\"Name\"]))\n",
    "print(len(data[\"2020\"][\"Name\"]))"
   ]
  },
  {
   "cell_type": "code",
   "execution_count": null,
   "id": "964111f8",
   "metadata": {},
   "outputs": [],
   "source": [
    "# go after differences in salary\n",
    "joined = outer_join(data[\"2019\"], data[\"2020\"])\n",
    "\n",
    "# clean up introduced artifacts\n",
    "for row in joined[1::]:\n",
    "    row[0] = row[0].split(\":\")[0]  # remove integer from name"
   ]
  },
  {
   "cell_type": "code",
   "execution_count": null,
   "id": "6c8e778f",
   "metadata": {},
   "outputs": [],
   "source": [
    "# prepare the output file\n",
    "filename = \"city-of-milwaukee-salaries.csv\"\n",
    "\n",
    "# write the data to file\n",
    "with open(filename, \"w\") as fileobj:\n",
    "    writer = csv.writer(fileobj)\n",
    "    writer.writerows(joined)"
   ]
  }
 ],
 "metadata": {
  "kernelspec": {
   "display_name": "Python 3",
   "language": "python",
   "name": "python3"
  },
  "language_info": {
   "codemirror_mode": {
    "name": "ipython",
    "version": 3
   },
   "file_extension": ".py",
   "mimetype": "text/x-python",
   "name": "python",
   "nbconvert_exporter": "python",
   "pygments_lexer": "ipython3",
   "version": "3.9.1"
  }
 },
 "nbformat": 4,
 "nbformat_minor": 5
}
