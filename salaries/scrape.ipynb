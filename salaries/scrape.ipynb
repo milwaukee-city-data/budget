{
 "cells": [
  {
   "cell_type": "code",
   "execution_count": null,
   "id": "7500a0b4",
   "metadata": {},
   "outputs": [],
   "source": [
    "import csv\n",
    "import os.path\n",
    "import time\n",
    "\n",
    "from tqdm import tqdm\n",
    "\n",
    "from selenium import webdriver\n",
    "from selenium.common.exceptions import StaleElementReferenceException"
   ]
  },
  {
   "cell_type": "code",
   "execution_count": null,
   "id": "c3584455",
   "metadata": {},
   "outputs": [],
   "source": [
    "CHROME_OPTIONS = webdriver.ChromeOptions()\n",
    "CHROME_OPTIONS.add_argument(\"--headless\")\n",
    "\n",
    "SOURCE = \"https://projects.jsonline.com/database/2021/2/city-of-milwaukee-salaries-2020.html\""
   ]
  },
  {
   "cell_type": "code",
   "execution_count": null,
   "id": "0020b8b2",
   "metadata": {},
   "outputs": [],
   "source": [
    "def _get_number_of_pages(browser):\n",
    "    \"\"\"Read off the total number of pages from the source\n",
    "    \"\"\"\n",
    "    return int(browser.find_element_by_xpath(\n",
    "        '//label[@data-cb-name=\"LabelTotal\"]'\n",
    "    ).text)\n",
    "\n",
    "\n",
    "def _navigate_to_page(browser, number):\n",
    "    \"\"\"Click the right button to navigate to the nth page of data\n",
    "    \"\"\"\n",
    "    option = browser.find_element_by_xpath(f'//option[@value=\"{number}\"]')\n",
    "    option.click()  # load the data on page `number`\n",
    "\n",
    "\n",
    "def _get_page_data(browser):\n",
    "    \"\"\"Scrape tabular data off the current page\n",
    "    \"\"\"\n",
    "    def scrape_from_page(browser):\n",
    "        return [[item.text for item in row.find_elements_by_tag_name(\"td\")]\n",
    "                for row in browser.find_elements_by_tag_name(\"tr\")[1::]]\n",
    "\n",
    "    try:\n",
    "        return scrape_from_page(browser)\n",
    "    except StaleElementReferenceException:\n",
    "        # retry with enough time to load the data\n",
    "        return scrape_from_page(browser)"
   ]
  },
  {
   "cell_type": "code",
   "execution_count": null,
   "id": "e6814905",
   "metadata": {},
   "outputs": [],
   "source": [
    "# connect via Chrome\n",
    "browser = webdriver.Chrome(options=CHROME_OPTIONS)\n",
    "\n",
    "# navigate to the page\n",
    "browser.get(SOURCE)\n",
    "\n",
    "# initial placeholder for table rows\n",
    "rows = []"
   ]
  },
  {
   "cell_type": "code",
   "execution_count": null,
   "id": "9c384398",
   "metadata": {},
   "outputs": [],
   "source": [
    "# get start time\n",
    "start = time.time()\n",
    "\n",
    "# read off table column headers\n",
    "header = [item.text for item in\n",
    "          browser.find_elements_by_tag_name(\"th\")]\n",
    "\n",
    "# retrieve data from the table\n",
    "total = _get_number_of_pages(browser)\n",
    "for i in tqdm(range(total), desc=\"Progress: \"):\n",
    "    page_no = i + 1  # convert from 0-count to 1-count\n",
    "    _navigate_to_page(browser, page_no)\n",
    "    rows += _get_page_data(browser)\n",
    "\n",
    "# consistency check on number of rows\n",
    "print(f\"Total no. of records: {len(rows)}\")\n",
    "\n",
    "# report the time taken\n",
    "minutes = (time.time() - start) / 60\n",
    "print(f\"Total time taken: {minutes} minutes\")"
   ]
  },
  {
   "cell_type": "code",
   "execution_count": null,
   "id": "706a2b71",
   "metadata": {},
   "outputs": [],
   "source": [
    "# close the browser\n",
    "browser.close()"
   ]
  },
  {
   "cell_type": "code",
   "execution_count": null,
   "id": "f13b33fd",
   "metadata": {},
   "outputs": [],
   "source": [
    "# prepare the output file\n",
    "name = os.path.basename(SOURCE).split(\".\")[0]\n",
    "filename = f\"{name}.tsv\"\n",
    "\n",
    "# write the data to file\n",
    "with open(filename, \"w\") as fileobj:\n",
    "    writer = csv.writer(fileobj, delimiter=\"\\t\")\n",
    "    writer.writerow(header)  # column headers\n",
    "    writer.writerows(rows)  # column data"
   ]
  }
 ],
 "metadata": {
  "kernelspec": {
   "display_name": "Python 3",
   "language": "python",
   "name": "python3"
  },
  "language_info": {
   "codemirror_mode": {
    "name": "ipython",
    "version": 3
   },
   "file_extension": ".py",
   "mimetype": "text/x-python",
   "name": "python",
   "nbconvert_exporter": "python",
   "pygments_lexer": "ipython3",
   "version": "3.9.1"
  }
 },
 "nbformat": 4,
 "nbformat_minor": 5
}
